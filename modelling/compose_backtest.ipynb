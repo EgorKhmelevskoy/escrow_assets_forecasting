{
 "cells": [
  {
   "cell_type": "code",
   "execution_count": 1,
   "id": "2696a408-e122-4cb8-975d-2ea68c2b8e63",
   "metadata": {},
   "outputs": [],
   "source": [
    "import pandas as pd\n",
    "import numpy as np\n",
    "import sys\n",
    "from pyspark.sql import functions as f\n",
    "import re\n",
    "from functools import reduce\n",
    "from pyspark.sql import SparkSession\n",
    "from typing import Dict\n",
    "from pyspark.sql.types import StructType, StructField, StringType, IntegerType, TimestampType, FloatType\n",
    "from pandas.tseries.offsets import MonthEnd\n",
    "from datetime import datetime\n",
    "import re\n",
    "from pyspark.sql.window import Window\n",
    "import plotly.express as px\n",
    "from pyspark.ml.feature import Bucketizer\n",
    "from itertools import chain\n",
    "from pandas.tseries.offsets import MonthEnd\n",
    "from dateutil.relativedelta import relativedelta\n",
    "pd.set_option('display.max_columns', 200)"
   ]
  },
  {
   "cell_type": "code",
   "execution_count": 2,
   "id": "58d8e6f4-87db-4e71-9319-99a4ebde0fce",
   "metadata": {},
   "outputs": [],
   "source": [
    "#!pip install scikit-learn --force\n",
    "#!pip install catboost\n",
    "#!pip install ipywidgets --force"
   ]
  },
  {
   "cell_type": "code",
   "execution_count": 3,
   "id": "b137e1b4-3810-4ac3-b641-597e3fc4c941",
   "metadata": {},
   "outputs": [],
   "source": [
    "price_res = pd.read_parquet('price_res.parquet')"
   ]
  },
  {
   "cell_type": "code",
   "execution_count": 4,
   "id": "14f7c5c7-8755-43eb-bd14-9ea59dd887f1",
   "metadata": {},
   "outputs": [],
   "source": [
    "share_res = pd.read_parquet('s_share_res.parquet')"
   ]
  },
  {
   "cell_type": "code",
   "execution_count": 5,
   "id": "d9b57f21-5f14-47e6-95d4-bc73d4635ad5",
   "metadata": {},
   "outputs": [],
   "source": [
    "res = share_res[share_res['train_flg'] == False].merge(price_res[price_res['train_flg'] == False].rename(columns = {'fact_ln': 'fact_price', 'pred_ln': 'pred_price'}), on = ['report_date', 'object', 'step']).sort_values('report_date')\\\n",
    "        .groupby(['object', 'step']).apply(lambda df: df.assign(\n",
    "    escrow_volume_new = (pd.concat([df['S_share_shift'].iloc[[0]], df['S_share']]).diff().dropna()*df['mean_price_per_metr']*df['S']).cumsum() + df['escrow_volume_shift'].iloc[0],\n",
    "    \n",
    "    escrow_volume_pred = (pd.concat([df['S_share_shift'].iloc[[0]], df['pred_share']]).diff().dropna()*df['pred_price']*df['S']).cumsum() + df['escrow_volume_shift'].iloc[0])\n",
    "                                          )"
   ]
  },
  {
   "cell_type": "code",
   "execution_count": 6,
   "id": "14a49333-9126-4432-8c7e-84e4d11555ee",
   "metadata": {},
   "outputs": [
    {
     "data": {
      "text/html": [
       "<div>\n",
       "<style scoped>\n",
       "    .dataframe tbody tr th:only-of-type {\n",
       "        vertical-align: middle;\n",
       "    }\n",
       "\n",
       "    .dataframe tbody tr th {\n",
       "        vertical-align: top;\n",
       "    }\n",
       "\n",
       "    .dataframe thead th {\n",
       "        text-align: right;\n",
       "    }\n",
       "</style>\n",
       "<table border=\"1\" class=\"dataframe\">\n",
       "  <thead>\n",
       "    <tr style=\"text-align: right;\">\n",
       "      <th></th>\n",
       "      <th>report_date</th>\n",
       "      <th>object</th>\n",
       "      <th>fact_x</th>\n",
       "      <th>fact_share</th>\n",
       "      <th>pred_share</th>\n",
       "      <th>pred_x</th>\n",
       "      <th>step</th>\n",
       "      <th>train_flg_x</th>\n",
       "      <th>escrow_volume</th>\n",
       "      <th>mean_price_per_metr</th>\n",
       "      <th>S_share</th>\n",
       "      <th>S</th>\n",
       "      <th>S_inflow</th>\n",
       "      <th>S_share_shift</th>\n",
       "      <th>escrow_volume_shift</th>\n",
       "      <th>fact_y</th>\n",
       "      <th>pred_y</th>\n",
       "      <th>fact_price</th>\n",
       "      <th>pred_price</th>\n",
       "      <th>train_flg_y</th>\n",
       "      <th>escrow_volume_new</th>\n",
       "      <th>escrow_volume_pred</th>\n",
       "    </tr>\n",
       "  </thead>\n",
       "  <tbody>\n",
       "    <tr>\n",
       "      <th>0</th>\n",
       "      <td>2022-10-31</td>\n",
       "      <td>43553.0</td>\n",
       "      <td>488.00</td>\n",
       "      <td>0.555556</td>\n",
       "      <td>0.506524</td>\n",
       "      <td>444.930487</td>\n",
       "      <td>1</td>\n",
       "      <td>False</td>\n",
       "      <td>2.142558e+07</td>\n",
       "      <td>39271.722441</td>\n",
       "      <td>0.555556</td>\n",
       "      <td>878.40</td>\n",
       "      <td>0.00</td>\n",
       "      <td>0.555556</td>\n",
       "      <td>2.142558e+07</td>\n",
       "      <td>inf</td>\n",
       "      <td>inf</td>\n",
       "      <td>39271.722441</td>\n",
       "      <td>43800.000214</td>\n",
       "      <td>False</td>\n",
       "      <td>2.142558e+07</td>\n",
       "      <td>1.953913e+07</td>\n",
       "    </tr>\n",
       "    <tr>\n",
       "      <th>301</th>\n",
       "      <td>2022-10-31</td>\n",
       "      <td>42313.0</td>\n",
       "      <td>7653.67</td>\n",
       "      <td>0.761029</td>\n",
       "      <td>0.770630</td>\n",
       "      <td>7750.226002</td>\n",
       "      <td>1</td>\n",
       "      <td>False</td>\n",
       "      <td>8.222092e+08</td>\n",
       "      <td>126873.050405</td>\n",
       "      <td>0.761029</td>\n",
       "      <td>10057.00</td>\n",
       "      <td>298.78</td>\n",
       "      <td>0.731320</td>\n",
       "      <td>7.843021e+08</td>\n",
       "      <td>inf</td>\n",
       "      <td>inf</td>\n",
       "      <td>126873.050405</td>\n",
       "      <td>151851.474176</td>\n",
       "      <td>False</td>\n",
       "      <td>8.222092e+08</td>\n",
       "      <td>8.443344e+08</td>\n",
       "    </tr>\n",
       "    <tr>\n",
       "      <th>300</th>\n",
       "      <td>2022-10-31</td>\n",
       "      <td>40083.0</td>\n",
       "      <td>957.11</td>\n",
       "      <td>0.264030</td>\n",
       "      <td>0.016788</td>\n",
       "      <td>60.855798</td>\n",
       "      <td>1</td>\n",
       "      <td>False</td>\n",
       "      <td>1.063948e+08</td>\n",
       "      <td>111162.562297</td>\n",
       "      <td>0.264030</td>\n",
       "      <td>3625.00</td>\n",
       "      <td>957.11</td>\n",
       "      <td>0.000000</td>\n",
       "      <td>0.000000e+00</td>\n",
       "      <td>inf</td>\n",
       "      <td>inf</td>\n",
       "      <td>111162.562297</td>\n",
       "      <td>153757.753303</td>\n",
       "      <td>False</td>\n",
       "      <td>1.063948e+08</td>\n",
       "      <td>9.357051e+06</td>\n",
       "    </tr>\n",
       "    <tr>\n",
       "      <th>299</th>\n",
       "      <td>2022-10-31</td>\n",
       "      <td>42314.0</td>\n",
       "      <td>6587.94</td>\n",
       "      <td>0.729181</td>\n",
       "      <td>0.768338</td>\n",
       "      <td>6941.714421</td>\n",
       "      <td>1</td>\n",
       "      <td>False</td>\n",
       "      <td>6.408877e+08</td>\n",
       "      <td>130109.683865</td>\n",
       "      <td>0.729181</td>\n",
       "      <td>9034.71</td>\n",
       "      <td>140.13</td>\n",
       "      <td>0.713671</td>\n",
       "      <td>6.226554e+08</td>\n",
       "      <td>inf</td>\n",
       "      <td>inf</td>\n",
       "      <td>130109.683865</td>\n",
       "      <td>137117.436348</td>\n",
       "      <td>False</td>\n",
       "      <td>6.408877e+08</td>\n",
       "      <td>6.903783e+08</td>\n",
       "    </tr>\n",
       "    <tr>\n",
       "      <th>298</th>\n",
       "      <td>2022-10-31</td>\n",
       "      <td>44842.0</td>\n",
       "      <td>0.00</td>\n",
       "      <td>0.000000</td>\n",
       "      <td>0.000000</td>\n",
       "      <td>0.000000</td>\n",
       "      <td>1</td>\n",
       "      <td>False</td>\n",
       "      <td>0.000000e+00</td>\n",
       "      <td>0.000000</td>\n",
       "      <td>0.000000</td>\n",
       "      <td>14615.39</td>\n",
       "      <td>0.00</td>\n",
       "      <td>0.000000</td>\n",
       "      <td>0.000000e+00</td>\n",
       "      <td>inf</td>\n",
       "      <td>inf</td>\n",
       "      <td>120460.668956</td>\n",
       "      <td>174672.186022</td>\n",
       "      <td>False</td>\n",
       "      <td>0.000000e+00</td>\n",
       "      <td>0.000000e+00</td>\n",
       "    </tr>\n",
       "    <tr>\n",
       "      <th>...</th>\n",
       "      <td>...</td>\n",
       "      <td>...</td>\n",
       "      <td>...</td>\n",
       "      <td>...</td>\n",
       "      <td>...</td>\n",
       "      <td>...</td>\n",
       "      <td>...</td>\n",
       "      <td>...</td>\n",
       "      <td>...</td>\n",
       "      <td>...</td>\n",
       "      <td>...</td>\n",
       "      <td>...</td>\n",
       "      <td>...</td>\n",
       "      <td>...</td>\n",
       "      <td>...</td>\n",
       "      <td>...</td>\n",
       "      <td>...</td>\n",
       "      <td>...</td>\n",
       "      <td>...</td>\n",
       "      <td>...</td>\n",
       "      <td>...</td>\n",
       "      <td>...</td>\n",
       "    </tr>\n",
       "    <tr>\n",
       "      <th>4968</th>\n",
       "      <td>2023-12-31</td>\n",
       "      <td>44069.0</td>\n",
       "      <td>30386.60</td>\n",
       "      <td>1.000000</td>\n",
       "      <td>0.987806</td>\n",
       "      <td>30016.055961</td>\n",
       "      <td>5</td>\n",
       "      <td>False</td>\n",
       "      <td>4.719865e+09</td>\n",
       "      <td>240901.781882</td>\n",
       "      <td>1.000000</td>\n",
       "      <td>30386.60</td>\n",
       "      <td>71.20</td>\n",
       "      <td>0.997657</td>\n",
       "      <td>4.702713e+09</td>\n",
       "      <td>inf</td>\n",
       "      <td>inf</td>\n",
       "      <td>240901.781882</td>\n",
       "      <td>163281.955591</td>\n",
       "      <td>False</td>\n",
       "      <td>4.719865e+09</td>\n",
       "      <td>4.615246e+09</td>\n",
       "    </tr>\n",
       "    <tr>\n",
       "      <th>4969</th>\n",
       "      <td>2023-12-31</td>\n",
       "      <td>40019.0</td>\n",
       "      <td>9233.49</td>\n",
       "      <td>0.911800</td>\n",
       "      <td>0.984624</td>\n",
       "      <td>9970.953178</td>\n",
       "      <td>5</td>\n",
       "      <td>False</td>\n",
       "      <td>8.506758e+08</td>\n",
       "      <td>112417.295728</td>\n",
       "      <td>0.911800</td>\n",
       "      <td>10126.66</td>\n",
       "      <td>192.88</td>\n",
       "      <td>0.892753</td>\n",
       "      <td>8.289928e+08</td>\n",
       "      <td>inf</td>\n",
       "      <td>inf</td>\n",
       "      <td>112417.295728</td>\n",
       "      <td>113297.874826</td>\n",
       "      <td>False</td>\n",
       "      <td>8.506758e+08</td>\n",
       "      <td>9.302492e+08</td>\n",
       "    </tr>\n",
       "    <tr>\n",
       "      <th>4970</th>\n",
       "      <td>2023-12-31</td>\n",
       "      <td>44826.0</td>\n",
       "      <td>3131.18</td>\n",
       "      <td>0.680333</td>\n",
       "      <td>0.766607</td>\n",
       "      <td>3528.247140</td>\n",
       "      <td>5</td>\n",
       "      <td>False</td>\n",
       "      <td>4.008311e+08</td>\n",
       "      <td>122040.229885</td>\n",
       "      <td>0.680333</td>\n",
       "      <td>4602.42</td>\n",
       "      <td>17.40</td>\n",
       "      <td>0.676553</td>\n",
       "      <td>3.987076e+08</td>\n",
       "      <td>inf</td>\n",
       "      <td>inf</td>\n",
       "      <td>122040.229885</td>\n",
       "      <td>143650.001038</td>\n",
       "      <td>False</td>\n",
       "      <td>4.008311e+08</td>\n",
       "      <td>4.589630e+08</td>\n",
       "    </tr>\n",
       "    <tr>\n",
       "      <th>4958</th>\n",
       "      <td>2023-12-31</td>\n",
       "      <td>46138.0</td>\n",
       "      <td>30283.10</td>\n",
       "      <td>0.812271</td>\n",
       "      <td>0.794348</td>\n",
       "      <td>29614.894756</td>\n",
       "      <td>5</td>\n",
       "      <td>False</td>\n",
       "      <td>1.001182e+10</td>\n",
       "      <td>353267.681817</td>\n",
       "      <td>0.812271</td>\n",
       "      <td>37282.00</td>\n",
       "      <td>2214.60</td>\n",
       "      <td>0.752870</td>\n",
       "      <td>9.229472e+09</td>\n",
       "      <td>inf</td>\n",
       "      <td>inf</td>\n",
       "      <td>353267.681817</td>\n",
       "      <td>368171.020025</td>\n",
       "      <td>False</td>\n",
       "      <td>1.001182e+10</td>\n",
       "      <td>9.764495e+09</td>\n",
       "    </tr>\n",
       "    <tr>\n",
       "      <th>5121</th>\n",
       "      <td>2023-12-31</td>\n",
       "      <td>44633.0</td>\n",
       "      <td>15593.02</td>\n",
       "      <td>0.963736</td>\n",
       "      <td>0.933598</td>\n",
       "      <td>15105.398331</td>\n",
       "      <td>5</td>\n",
       "      <td>False</td>\n",
       "      <td>1.306452e+09</td>\n",
       "      <td>93477.544323</td>\n",
       "      <td>0.963736</td>\n",
       "      <td>16179.76</td>\n",
       "      <td>688.69</td>\n",
       "      <td>0.921171</td>\n",
       "      <td>1.242075e+09</td>\n",
       "      <td>inf</td>\n",
       "      <td>inf</td>\n",
       "      <td>93477.544323</td>\n",
       "      <td>91489.900868</td>\n",
       "      <td>False</td>\n",
       "      <td>1.306452e+09</td>\n",
       "      <td>1.263709e+09</td>\n",
       "    </tr>\n",
       "  </tbody>\n",
       "</table>\n",
       "<p>5122 rows × 22 columns</p>\n",
       "</div>"
      ],
      "text/plain": [
       "     report_date   object    fact_x  fact_share  pred_share        pred_x  \\\n",
       "0     2022-10-31  43553.0    488.00    0.555556    0.506524    444.930487   \n",
       "301   2022-10-31  42313.0   7653.67    0.761029    0.770630   7750.226002   \n",
       "300   2022-10-31  40083.0    957.11    0.264030    0.016788     60.855798   \n",
       "299   2022-10-31  42314.0   6587.94    0.729181    0.768338   6941.714421   \n",
       "298   2022-10-31  44842.0      0.00    0.000000    0.000000      0.000000   \n",
       "...          ...      ...       ...         ...         ...           ...   \n",
       "4968  2023-12-31  44069.0  30386.60    1.000000    0.987806  30016.055961   \n",
       "4969  2023-12-31  40019.0   9233.49    0.911800    0.984624   9970.953178   \n",
       "4970  2023-12-31  44826.0   3131.18    0.680333    0.766607   3528.247140   \n",
       "4958  2023-12-31  46138.0  30283.10    0.812271    0.794348  29614.894756   \n",
       "5121  2023-12-31  44633.0  15593.02    0.963736    0.933598  15105.398331   \n",
       "\n",
       "      step  train_flg_x  escrow_volume  mean_price_per_metr   S_share  \\\n",
       "0        1        False   2.142558e+07         39271.722441  0.555556   \n",
       "301      1        False   8.222092e+08        126873.050405  0.761029   \n",
       "300      1        False   1.063948e+08        111162.562297  0.264030   \n",
       "299      1        False   6.408877e+08        130109.683865  0.729181   \n",
       "298      1        False   0.000000e+00             0.000000  0.000000   \n",
       "...    ...          ...            ...                  ...       ...   \n",
       "4968     5        False   4.719865e+09        240901.781882  1.000000   \n",
       "4969     5        False   8.506758e+08        112417.295728  0.911800   \n",
       "4970     5        False   4.008311e+08        122040.229885  0.680333   \n",
       "4958     5        False   1.001182e+10        353267.681817  0.812271   \n",
       "5121     5        False   1.306452e+09         93477.544323  0.963736   \n",
       "\n",
       "             S  S_inflow  S_share_shift  escrow_volume_shift  fact_y  pred_y  \\\n",
       "0       878.40      0.00       0.555556         2.142558e+07     inf     inf   \n",
       "301   10057.00    298.78       0.731320         7.843021e+08     inf     inf   \n",
       "300    3625.00    957.11       0.000000         0.000000e+00     inf     inf   \n",
       "299    9034.71    140.13       0.713671         6.226554e+08     inf     inf   \n",
       "298   14615.39      0.00       0.000000         0.000000e+00     inf     inf   \n",
       "...        ...       ...            ...                  ...     ...     ...   \n",
       "4968  30386.60     71.20       0.997657         4.702713e+09     inf     inf   \n",
       "4969  10126.66    192.88       0.892753         8.289928e+08     inf     inf   \n",
       "4970   4602.42     17.40       0.676553         3.987076e+08     inf     inf   \n",
       "4958  37282.00   2214.60       0.752870         9.229472e+09     inf     inf   \n",
       "5121  16179.76    688.69       0.921171         1.242075e+09     inf     inf   \n",
       "\n",
       "         fact_price     pred_price  train_flg_y  escrow_volume_new  \\\n",
       "0      39271.722441   43800.000214        False       2.142558e+07   \n",
       "301   126873.050405  151851.474176        False       8.222092e+08   \n",
       "300   111162.562297  153757.753303        False       1.063948e+08   \n",
       "299   130109.683865  137117.436348        False       6.408877e+08   \n",
       "298   120460.668956  174672.186022        False       0.000000e+00   \n",
       "...             ...            ...          ...                ...   \n",
       "4968  240901.781882  163281.955591        False       4.719865e+09   \n",
       "4969  112417.295728  113297.874826        False       8.506758e+08   \n",
       "4970  122040.229885  143650.001038        False       4.008311e+08   \n",
       "4958  353267.681817  368171.020025        False       1.001182e+10   \n",
       "5121   93477.544323   91489.900868        False       1.306452e+09   \n",
       "\n",
       "      escrow_volume_pred  \n",
       "0           1.953913e+07  \n",
       "301         8.443344e+08  \n",
       "300         9.357051e+06  \n",
       "299         6.903783e+08  \n",
       "298         0.000000e+00  \n",
       "...                  ...  \n",
       "4968        4.615246e+09  \n",
       "4969        9.302492e+08  \n",
       "4970        4.589630e+08  \n",
       "4958        9.764495e+09  \n",
       "5121        1.263709e+09  \n",
       "\n",
       "[5122 rows x 22 columns]"
      ]
     },
     "execution_count": 6,
     "metadata": {},
     "output_type": "execute_result"
    }
   ],
   "source": [
    "res"
   ]
  },
  {
   "cell_type": "code",
   "execution_count": 10,
   "id": "4e10a776-5c24-4435-ab2e-76e04323622a",
   "metadata": {},
   "outputs": [
    {
     "data": {
      "application/vnd.plotly.v1+json": {
       "config": {
        "plotlyServerURL": "https://plot.ly"
       },
       "data": [
        {
         "hovertemplate": "variable=Фактические значения<br>step=1<br>report_date=%{x}<br>value=%{y}<extra></extra>",
         "legendgroup": "Фактические значения",
         "line": {
          "color": "#636efa",
          "dash": "solid"
         },
         "marker": {
          "symbol": "circle"
         },
         "mode": "markers+lines",
         "name": "Фактические значения",
         "orientation": "v",
         "showlegend": true,
         "type": "scatter",
         "x": [
          "2022-10-31T00:00:00",
          "2022-11-30T00:00:00",
          "2022-12-31T00:00:00"
         ],
         "xaxis": "x",
         "y": [
          844890900509.9105,
          873904581871.559,
          915886918240.8687
         ],
         "yaxis": "y"
        },
        {
         "hovertemplate": "variable=Фактические значения<br>step=2<br>report_date=%{x}<br>value=%{y}<extra></extra>",
         "legendgroup": "Фактические значения",
         "line": {
          "color": "#636efa",
          "dash": "solid"
         },
         "marker": {
          "symbol": "circle"
         },
         "mode": "markers+lines",
         "name": "Фактические значения",
         "orientation": "v",
         "showlegend": false,
         "type": "scatter",
         "x": [
          "2023-01-31T00:00:00",
          "2023-02-28T00:00:00",
          "2023-03-31T00:00:00"
         ],
         "xaxis": "x",
         "y": [
          819709442185.5267,
          836240788064.1968,
          865326256976.3837
         ],
         "yaxis": "y"
        },
        {
         "hovertemplate": "variable=Фактические значения<br>step=3<br>report_date=%{x}<br>value=%{y}<extra></extra>",
         "legendgroup": "Фактические значения",
         "line": {
          "color": "#636efa",
          "dash": "solid"
         },
         "marker": {
          "symbol": "circle"
         },
         "mode": "markers+lines",
         "name": "Фактические значения",
         "orientation": "v",
         "showlegend": false,
         "type": "scatter",
         "x": [
          "2023-04-30T00:00:00",
          "2023-05-31T00:00:00",
          "2023-06-30T00:00:00"
         ],
         "xaxis": "x",
         "y": [
          839842775594.3502,
          854644821407.1971,
          882234789739.8148
         ],
         "yaxis": "y"
        },
        {
         "hovertemplate": "variable=Фактические значения<br>step=4<br>report_date=%{x}<br>value=%{y}<extra></extra>",
         "legendgroup": "Фактические значения",
         "line": {
          "color": "#636efa",
          "dash": "solid"
         },
         "marker": {
          "symbol": "circle"
         },
         "mode": "markers+lines",
         "name": "Фактические значения",
         "orientation": "v",
         "showlegend": false,
         "type": "scatter",
         "x": [
          "2023-07-31T00:00:00",
          "2023-08-31T00:00:00",
          "2023-09-30T00:00:00"
         ],
         "xaxis": "x",
         "y": [
          845311931802.0636,
          835627091534.5819,
          877507162296.3771
         ],
         "yaxis": "y"
        },
        {
         "hovertemplate": "variable=Фактические значения<br>step=5<br>report_date=%{x}<br>value=%{y}<extra></extra>",
         "legendgroup": "Фактические значения",
         "line": {
          "color": "#636efa",
          "dash": "solid"
         },
         "marker": {
          "symbol": "circle"
         },
         "mode": "markers+lines",
         "name": "Фактические значения",
         "orientation": "v",
         "showlegend": false,
         "type": "scatter",
         "x": [
          "2023-10-31T00:00:00",
          "2023-11-30T00:00:00",
          "2023-12-31T00:00:00"
         ],
         "xaxis": "x",
         "y": [
          812503592696.0627,
          820389481269.911,
          796423820338.5823
         ],
         "yaxis": "y"
        },
        {
         "hovertemplate": "variable=Предсказанные значения<br>step=1<br>report_date=%{x}<br>value=%{y}<extra></extra>",
         "legendgroup": "Предсказанные значения",
         "line": {
          "color": "#EF553B",
          "dash": "solid"
         },
         "marker": {
          "symbol": "circle"
         },
         "mode": "markers+lines",
         "name": "Предсказанные значения",
         "orientation": "v",
         "showlegend": true,
         "type": "scatter",
         "x": [
          "2022-10-31T00:00:00",
          "2022-11-30T00:00:00",
          "2022-12-31T00:00:00"
         ],
         "xaxis": "x",
         "y": [
          868309487444.9814,
          919250058419.8319,
          930245652131.8253
         ],
         "yaxis": "y"
        },
        {
         "hovertemplate": "variable=Предсказанные значения<br>step=2<br>report_date=%{x}<br>value=%{y}<extra></extra>",
         "legendgroup": "Предсказанные значения",
         "line": {
          "color": "#EF553B",
          "dash": "solid"
         },
         "marker": {
          "symbol": "circle"
         },
         "mode": "markers+lines",
         "name": "Предсказанные значения",
         "orientation": "v",
         "showlegend": false,
         "type": "scatter",
         "x": [
          "2023-01-31T00:00:00",
          "2023-02-28T00:00:00",
          "2023-03-31T00:00:00"
         ],
         "xaxis": "x",
         "y": [
          808688863026.5565,
          832309596880.2675,
          884282696494.4336
         ],
         "yaxis": "y"
        },
        {
         "hovertemplate": "variable=Предсказанные значения<br>step=3<br>report_date=%{x}<br>value=%{y}<extra></extra>",
         "legendgroup": "Предсказанные значения",
         "line": {
          "color": "#EF553B",
          "dash": "solid"
         },
         "marker": {
          "symbol": "circle"
         },
         "mode": "markers+lines",
         "name": "Предсказанные значения",
         "orientation": "v",
         "showlegend": false,
         "type": "scatter",
         "x": [
          "2023-04-30T00:00:00",
          "2023-05-31T00:00:00",
          "2023-06-30T00:00:00"
         ],
         "xaxis": "x",
         "y": [
          827352546465.8107,
          863759549695.895,
          900562032342.2902
         ],
         "yaxis": "y"
        },
        {
         "hovertemplate": "variable=Предсказанные значения<br>step=4<br>report_date=%{x}<br>value=%{y}<extra></extra>",
         "legendgroup": "Предсказанные значения",
         "line": {
          "color": "#EF553B",
          "dash": "solid"
         },
         "marker": {
          "symbol": "circle"
         },
         "mode": "markers+lines",
         "name": "Предсказанные значения",
         "orientation": "v",
         "showlegend": false,
         "type": "scatter",
         "x": [
          "2023-07-31T00:00:00",
          "2023-08-31T00:00:00",
          "2023-09-30T00:00:00"
         ],
         "xaxis": "x",
         "y": [
          877180743652.8445,
          855492370294.9371,
          878066509161.3457
         ],
         "yaxis": "y"
        },
        {
         "hovertemplate": "variable=Предсказанные значения<br>step=5<br>report_date=%{x}<br>value=%{y}<extra></extra>",
         "legendgroup": "Предсказанные значения",
         "line": {
          "color": "#EF553B",
          "dash": "solid"
         },
         "marker": {
          "symbol": "circle"
         },
         "mode": "markers+lines",
         "name": "Предсказанные значения",
         "orientation": "v",
         "showlegend": false,
         "type": "scatter",
         "x": [
          "2023-10-31T00:00:00",
          "2023-11-30T00:00:00",
          "2023-12-31T00:00:00"
         ],
         "xaxis": "x",
         "y": [
          808649031257.83,
          835606387917.3125,
          810829459387.6736
         ],
         "yaxis": "y"
        }
       ],
       "layout": {
        "autosize": true,
        "font": {
         "size": 15
        },
        "legend": {
         "title": {
          "text": ""
         },
         "tracegroupgap": 0
        },
        "shapes": [
         {
          "line": {
           "dash": "dash"
          },
          "type": "line",
          "x0": "2022-12-31T00:00:00",
          "x1": "2022-12-31T00:00:00",
          "xref": "x",
          "y0": 0,
          "y1": 1,
          "yref": "y domain"
         },
         {
          "line": {
           "dash": "dash"
          },
          "type": "line",
          "x0": "2023-03-31T00:00:00",
          "x1": "2023-03-31T00:00:00",
          "xref": "x",
          "y0": 0,
          "y1": 1,
          "yref": "y domain"
         },
         {
          "line": {
           "dash": "dash"
          },
          "type": "line",
          "x0": "2023-06-30T00:00:00",
          "x1": "2023-06-30T00:00:00",
          "xref": "x",
          "y0": 0,
          "y1": 1,
          "yref": "y domain"
         },
         {
          "line": {
           "dash": "dash"
          },
          "type": "line",
          "x0": "2023-09-30T00:00:00",
          "x1": "2023-09-30T00:00:00",
          "xref": "x",
          "y0": 0,
          "y1": 1,
          "yref": "y domain"
         }
        ],
        "template": {
         "data": {
          "bar": [
           {
            "error_x": {
             "color": "#2a3f5f"
            },
            "error_y": {
             "color": "#2a3f5f"
            },
            "marker": {
             "line": {
              "color": "white",
              "width": 0.5
             },
             "pattern": {
              "fillmode": "overlay",
              "size": 10,
              "solidity": 0.2
             }
            },
            "type": "bar"
           }
          ],
          "barpolar": [
           {
            "marker": {
             "line": {
              "color": "white",
              "width": 0.5
             },
             "pattern": {
              "fillmode": "overlay",
              "size": 10,
              "solidity": 0.2
             }
            },
            "type": "barpolar"
           }
          ],
          "carpet": [
           {
            "aaxis": {
             "endlinecolor": "#2a3f5f",
             "gridcolor": "#C8D4E3",
             "linecolor": "#C8D4E3",
             "minorgridcolor": "#C8D4E3",
             "startlinecolor": "#2a3f5f"
            },
            "baxis": {
             "endlinecolor": "#2a3f5f",
             "gridcolor": "#C8D4E3",
             "linecolor": "#C8D4E3",
             "minorgridcolor": "#C8D4E3",
             "startlinecolor": "#2a3f5f"
            },
            "type": "carpet"
           }
          ],
          "choropleth": [
           {
            "colorbar": {
             "outlinewidth": 0,
             "ticks": ""
            },
            "type": "choropleth"
           }
          ],
          "contour": [
           {
            "colorbar": {
             "outlinewidth": 0,
             "ticks": ""
            },
            "colorscale": [
             [
              0,
              "#0d0887"
             ],
             [
              0.1111111111111111,
              "#46039f"
             ],
             [
              0.2222222222222222,
              "#7201a8"
             ],
             [
              0.3333333333333333,
              "#9c179e"
             ],
             [
              0.4444444444444444,
              "#bd3786"
             ],
             [
              0.5555555555555556,
              "#d8576b"
             ],
             [
              0.6666666666666666,
              "#ed7953"
             ],
             [
              0.7777777777777778,
              "#fb9f3a"
             ],
             [
              0.8888888888888888,
              "#fdca26"
             ],
             [
              1,
              "#f0f921"
             ]
            ],
            "type": "contour"
           }
          ],
          "contourcarpet": [
           {
            "colorbar": {
             "outlinewidth": 0,
             "ticks": ""
            },
            "type": "contourcarpet"
           }
          ],
          "heatmap": [
           {
            "colorbar": {
             "outlinewidth": 0,
             "ticks": ""
            },
            "colorscale": [
             [
              0,
              "#0d0887"
             ],
             [
              0.1111111111111111,
              "#46039f"
             ],
             [
              0.2222222222222222,
              "#7201a8"
             ],
             [
              0.3333333333333333,
              "#9c179e"
             ],
             [
              0.4444444444444444,
              "#bd3786"
             ],
             [
              0.5555555555555556,
              "#d8576b"
             ],
             [
              0.6666666666666666,
              "#ed7953"
             ],
             [
              0.7777777777777778,
              "#fb9f3a"
             ],
             [
              0.8888888888888888,
              "#fdca26"
             ],
             [
              1,
              "#f0f921"
             ]
            ],
            "type": "heatmap"
           }
          ],
          "heatmapgl": [
           {
            "colorbar": {
             "outlinewidth": 0,
             "ticks": ""
            },
            "colorscale": [
             [
              0,
              "#0d0887"
             ],
             [
              0.1111111111111111,
              "#46039f"
             ],
             [
              0.2222222222222222,
              "#7201a8"
             ],
             [
              0.3333333333333333,
              "#9c179e"
             ],
             [
              0.4444444444444444,
              "#bd3786"
             ],
             [
              0.5555555555555556,
              "#d8576b"
             ],
             [
              0.6666666666666666,
              "#ed7953"
             ],
             [
              0.7777777777777778,
              "#fb9f3a"
             ],
             [
              0.8888888888888888,
              "#fdca26"
             ],
             [
              1,
              "#f0f921"
             ]
            ],
            "type": "heatmapgl"
           }
          ],
          "histogram": [
           {
            "marker": {
             "pattern": {
              "fillmode": "overlay",
              "size": 10,
              "solidity": 0.2
             }
            },
            "type": "histogram"
           }
          ],
          "histogram2d": [
           {
            "colorbar": {
             "outlinewidth": 0,
             "ticks": ""
            },
            "colorscale": [
             [
              0,
              "#0d0887"
             ],
             [
              0.1111111111111111,
              "#46039f"
             ],
             [
              0.2222222222222222,
              "#7201a8"
             ],
             [
              0.3333333333333333,
              "#9c179e"
             ],
             [
              0.4444444444444444,
              "#bd3786"
             ],
             [
              0.5555555555555556,
              "#d8576b"
             ],
             [
              0.6666666666666666,
              "#ed7953"
             ],
             [
              0.7777777777777778,
              "#fb9f3a"
             ],
             [
              0.8888888888888888,
              "#fdca26"
             ],
             [
              1,
              "#f0f921"
             ]
            ],
            "type": "histogram2d"
           }
          ],
          "histogram2dcontour": [
           {
            "colorbar": {
             "outlinewidth": 0,
             "ticks": ""
            },
            "colorscale": [
             [
              0,
              "#0d0887"
             ],
             [
              0.1111111111111111,
              "#46039f"
             ],
             [
              0.2222222222222222,
              "#7201a8"
             ],
             [
              0.3333333333333333,
              "#9c179e"
             ],
             [
              0.4444444444444444,
              "#bd3786"
             ],
             [
              0.5555555555555556,
              "#d8576b"
             ],
             [
              0.6666666666666666,
              "#ed7953"
             ],
             [
              0.7777777777777778,
              "#fb9f3a"
             ],
             [
              0.8888888888888888,
              "#fdca26"
             ],
             [
              1,
              "#f0f921"
             ]
            ],
            "type": "histogram2dcontour"
           }
          ],
          "mesh3d": [
           {
            "colorbar": {
             "outlinewidth": 0,
             "ticks": ""
            },
            "type": "mesh3d"
           }
          ],
          "parcoords": [
           {
            "line": {
             "colorbar": {
              "outlinewidth": 0,
              "ticks": ""
             }
            },
            "type": "parcoords"
           }
          ],
          "pie": [
           {
            "automargin": true,
            "type": "pie"
           }
          ],
          "scatter": [
           {
            "fillpattern": {
             "fillmode": "overlay",
             "size": 10,
             "solidity": 0.2
            },
            "type": "scatter"
           }
          ],
          "scatter3d": [
           {
            "line": {
             "colorbar": {
              "outlinewidth": 0,
              "ticks": ""
             }
            },
            "marker": {
             "colorbar": {
              "outlinewidth": 0,
              "ticks": ""
             }
            },
            "type": "scatter3d"
           }
          ],
          "scattercarpet": [
           {
            "marker": {
             "colorbar": {
              "outlinewidth": 0,
              "ticks": ""
             }
            },
            "type": "scattercarpet"
           }
          ],
          "scattergeo": [
           {
            "marker": {
             "colorbar": {
              "outlinewidth": 0,
              "ticks": ""
             }
            },
            "type": "scattergeo"
           }
          ],
          "scattergl": [
           {
            "marker": {
             "colorbar": {
              "outlinewidth": 0,
              "ticks": ""
             }
            },
            "type": "scattergl"
           }
          ],
          "scattermapbox": [
           {
            "marker": {
             "colorbar": {
              "outlinewidth": 0,
              "ticks": ""
             }
            },
            "type": "scattermapbox"
           }
          ],
          "scatterpolar": [
           {
            "marker": {
             "colorbar": {
              "outlinewidth": 0,
              "ticks": ""
             }
            },
            "type": "scatterpolar"
           }
          ],
          "scatterpolargl": [
           {
            "marker": {
             "colorbar": {
              "outlinewidth": 0,
              "ticks": ""
             }
            },
            "type": "scatterpolargl"
           }
          ],
          "scatterternary": [
           {
            "marker": {
             "colorbar": {
              "outlinewidth": 0,
              "ticks": ""
             }
            },
            "type": "scatterternary"
           }
          ],
          "surface": [
           {
            "colorbar": {
             "outlinewidth": 0,
             "ticks": ""
            },
            "colorscale": [
             [
              0,
              "#0d0887"
             ],
             [
              0.1111111111111111,
              "#46039f"
             ],
             [
              0.2222222222222222,
              "#7201a8"
             ],
             [
              0.3333333333333333,
              "#9c179e"
             ],
             [
              0.4444444444444444,
              "#bd3786"
             ],
             [
              0.5555555555555556,
              "#d8576b"
             ],
             [
              0.6666666666666666,
              "#ed7953"
             ],
             [
              0.7777777777777778,
              "#fb9f3a"
             ],
             [
              0.8888888888888888,
              "#fdca26"
             ],
             [
              1,
              "#f0f921"
             ]
            ],
            "type": "surface"
           }
          ],
          "table": [
           {
            "cells": {
             "fill": {
              "color": "#EBF0F8"
             },
             "line": {
              "color": "white"
             }
            },
            "header": {
             "fill": {
              "color": "#C8D4E3"
             },
             "line": {
              "color": "white"
             }
            },
            "type": "table"
           }
          ]
         },
         "layout": {
          "annotationdefaults": {
           "arrowcolor": "#2a3f5f",
           "arrowhead": 0,
           "arrowwidth": 1
          },
          "autotypenumbers": "strict",
          "coloraxis": {
           "colorbar": {
            "outlinewidth": 0,
            "ticks": ""
           }
          },
          "colorscale": {
           "diverging": [
            [
             0,
             "#8e0152"
            ],
            [
             0.1,
             "#c51b7d"
            ],
            [
             0.2,
             "#de77ae"
            ],
            [
             0.3,
             "#f1b6da"
            ],
            [
             0.4,
             "#fde0ef"
            ],
            [
             0.5,
             "#f7f7f7"
            ],
            [
             0.6,
             "#e6f5d0"
            ],
            [
             0.7,
             "#b8e186"
            ],
            [
             0.8,
             "#7fbc41"
            ],
            [
             0.9,
             "#4d9221"
            ],
            [
             1,
             "#276419"
            ]
           ],
           "sequential": [
            [
             0,
             "#0d0887"
            ],
            [
             0.1111111111111111,
             "#46039f"
            ],
            [
             0.2222222222222222,
             "#7201a8"
            ],
            [
             0.3333333333333333,
             "#9c179e"
            ],
            [
             0.4444444444444444,
             "#bd3786"
            ],
            [
             0.5555555555555556,
             "#d8576b"
            ],
            [
             0.6666666666666666,
             "#ed7953"
            ],
            [
             0.7777777777777778,
             "#fb9f3a"
            ],
            [
             0.8888888888888888,
             "#fdca26"
            ],
            [
             1,
             "#f0f921"
            ]
           ],
           "sequentialminus": [
            [
             0,
             "#0d0887"
            ],
            [
             0.1111111111111111,
             "#46039f"
            ],
            [
             0.2222222222222222,
             "#7201a8"
            ],
            [
             0.3333333333333333,
             "#9c179e"
            ],
            [
             0.4444444444444444,
             "#bd3786"
            ],
            [
             0.5555555555555556,
             "#d8576b"
            ],
            [
             0.6666666666666666,
             "#ed7953"
            ],
            [
             0.7777777777777778,
             "#fb9f3a"
            ],
            [
             0.8888888888888888,
             "#fdca26"
            ],
            [
             1,
             "#f0f921"
            ]
           ]
          },
          "colorway": [
           "#636efa",
           "#EF553B",
           "#00cc96",
           "#ab63fa",
           "#FFA15A",
           "#19d3f3",
           "#FF6692",
           "#B6E880",
           "#FF97FF",
           "#FECB52"
          ],
          "font": {
           "color": "#2a3f5f"
          },
          "geo": {
           "bgcolor": "white",
           "lakecolor": "white",
           "landcolor": "white",
           "showlakes": true,
           "showland": true,
           "subunitcolor": "#C8D4E3"
          },
          "hoverlabel": {
           "align": "left"
          },
          "hovermode": "closest",
          "mapbox": {
           "style": "light"
          },
          "paper_bgcolor": "white",
          "plot_bgcolor": "white",
          "polar": {
           "angularaxis": {
            "gridcolor": "#EBF0F8",
            "linecolor": "#EBF0F8",
            "ticks": ""
           },
           "bgcolor": "white",
           "radialaxis": {
            "gridcolor": "#EBF0F8",
            "linecolor": "#EBF0F8",
            "ticks": ""
           }
          },
          "scene": {
           "xaxis": {
            "backgroundcolor": "white",
            "gridcolor": "#DFE8F3",
            "gridwidth": 2,
            "linecolor": "#EBF0F8",
            "showbackground": true,
            "ticks": "",
            "zerolinecolor": "#EBF0F8"
           },
           "yaxis": {
            "backgroundcolor": "white",
            "gridcolor": "#DFE8F3",
            "gridwidth": 2,
            "linecolor": "#EBF0F8",
            "showbackground": true,
            "ticks": "",
            "zerolinecolor": "#EBF0F8"
           },
           "zaxis": {
            "backgroundcolor": "white",
            "gridcolor": "#DFE8F3",
            "gridwidth": 2,
            "linecolor": "#EBF0F8",
            "showbackground": true,
            "ticks": "",
            "zerolinecolor": "#EBF0F8"
           }
          },
          "shapedefaults": {
           "line": {
            "color": "#2a3f5f"
           }
          },
          "ternary": {
           "aaxis": {
            "gridcolor": "#DFE8F3",
            "linecolor": "#A2B1C6",
            "ticks": ""
           },
           "baxis": {
            "gridcolor": "#DFE8F3",
            "linecolor": "#A2B1C6",
            "ticks": ""
           },
           "bgcolor": "white",
           "caxis": {
            "gridcolor": "#DFE8F3",
            "linecolor": "#A2B1C6",
            "ticks": ""
           }
          },
          "title": {
           "x": 0.05
          },
          "xaxis": {
           "automargin": true,
           "gridcolor": "#EBF0F8",
           "linecolor": "#EBF0F8",
           "ticks": "",
           "title": {
            "standoff": 15
           },
           "zerolinecolor": "#EBF0F8",
           "zerolinewidth": 2
          },
          "yaxis": {
           "automargin": true,
           "gridcolor": "#EBF0F8",
           "linecolor": "#EBF0F8",
           "ticks": "",
           "title": {
            "standoff": 15
           },
           "zerolinecolor": "#EBF0F8",
           "zerolinewidth": 2
          }
         }
        },
        "title": {
         "text": "Бэктест композиции моделей для исходной целевой переменной - объема средств на счетах эскроу"
        },
        "xaxis": {
         "anchor": "y",
         "autorange": true,
         "domain": [
          0,
          1
         ],
         "range": [
          "2022-10-06 01:36:45.6067",
          "2024-01-24 22:23:14.3933"
         ],
         "title": {
          "text": "Дата"
         },
         "type": "date"
        },
        "yaxis": {
         "anchor": "x",
         "autorange": true,
         "domain": [
          0,
          1
         ],
         "range": [
          787001427547.4359,
          939668044922.9717
         ],
         "title": {
          "text": "Объем средств на счетах эскоу"
         },
         "type": "linear"
        }
       }
      },
      "image/png": "[encoded data removed]",
      "text/html": [
       "<div>                            <div id=\"fb82f3d9-30fd-4bc8-a25c-f58a0124b18e\" class=\"plotly-graph-div\" style=\"height:500px; width:100%;\"></div>            <script type=\"text/javascript\">                require([\"plotly\"], function(Plotly) {                    window.PLOTLYENV=window.PLOTLYENV || {};                                    if (document.getElementById(\"fb82f3d9-30fd-4bc8-a25c-f58a0124b18e\")) {                    Plotly.newPlot(                        \"fb82f3d9-30fd-4bc8-a25c-f58a0124b18e\",                        [{\"hovertemplate\":\"variable=\\u0424\\u0430\\u043a\\u0442\\u0438\\u0447\\u0435\\u0441\\u043a\\u0438\\u0435 \\u0437\\u043d\\u0430\\u0447\\u0435\\u043d\\u0438\\u044f<br>step=1<br>report_date=%{x}<br>value=%{y}<extra></extra>\",\"legendgroup\":\"\\u0424\\u0430\\u043a\\u0442\\u0438\\u0447\\u0435\\u0441\\u043a\\u0438\\u0435 \\u0437\\u043d\\u0430\\u0447\\u0435\\u043d\\u0438\\u044f\",\"line\":{\"color\":\"#636efa\",\"dash\":\"solid\"},\"marker\":{\"symbol\":\"circle\"},\"mode\":\"markers+lines\",\"name\":\"\\u0424\\u0430\\u043a\\u0442\\u0438\\u0447\\u0435\\u0441\\u043a\\u0438\\u0435 \\u0437\\u043d\\u0430\\u0447\\u0435\\u043d\\u0438\\u044f\",\"orientation\":\"v\",\"showlegend\":true,\"x\":[\"2022-10-31T00:00:00\",\"2022-11-30T00:00:00\",\"2022-12-31T00:00:00\"],\"xaxis\":\"x\",\"y\":[844890900509.9105,873904581871.559,915886918240.8687],\"yaxis\":\"y\",\"type\":\"scatter\"},{\"hovertemplate\":\"variable=\\u0424\\u0430\\u043a\\u0442\\u0438\\u0447\\u0435\\u0441\\u043a\\u0438\\u0435 \\u0437\\u043d\\u0430\\u0447\\u0435\\u043d\\u0438\\u044f<br>step=2<br>report_date=%{x}<br>value=%{y}<extra></extra>\",\"legendgroup\":\"\\u0424\\u0430\\u043a\\u0442\\u0438\\u0447\\u0435\\u0441\\u043a\\u0438\\u0435 \\u0437\\u043d\\u0430\\u0447\\u0435\\u043d\\u0438\\u044f\",\"line\":{\"color\":\"#636efa\",\"dash\":\"solid\"},\"marker\":{\"symbol\":\"circle\"},\"mode\":\"markers+lines\",\"name\":\"\\u0424\\u0430\\u043a\\u0442\\u0438\\u0447\\u0435\\u0441\\u043a\\u0438\\u0435 \\u0437\\u043d\\u0430\\u0447\\u0435\\u043d\\u0438\\u044f\",\"orientation\":\"v\",\"showlegend\":false,\"x\":[\"2023-01-31T00:00:00\",\"2023-02-28T00:00:00\",\"2023-03-31T00:00:00\"],\"xaxis\":\"x\",\"y\":[819709442185.5267,836240788064.1968,865326256976.3837],\"yaxis\":\"y\",\"type\":\"scatter\"},{\"hovertemplate\":\"variable=\\u0424\\u0430\\u043a\\u0442\\u0438\\u0447\\u0435\\u0441\\u043a\\u0438\\u0435 \\u0437\\u043d\\u0430\\u0447\\u0435\\u043d\\u0438\\u044f<br>step=3<br>report_date=%{x}<br>value=%{y}<extra></extra>\",\"legendgroup\":\"\\u0424\\u0430\\u043a\\u0442\\u0438\\u0447\\u0435\\u0441\\u043a\\u0438\\u0435 \\u0437\\u043d\\u0430\\u0447\\u0435\\u043d\\u0438\\u044f\",\"line\":{\"color\":\"#636efa\",\"dash\":\"solid\"},\"marker\":{\"symbol\":\"circle\"},\"mode\":\"markers+lines\",\"name\":\"\\u0424\\u0430\\u043a\\u0442\\u0438\\u0447\\u0435\\u0441\\u043a\\u0438\\u0435 \\u0437\\u043d\\u0430\\u0447\\u0435\\u043d\\u0438\\u044f\",\"orientation\":\"v\",\"showlegend\":false,\"x\":[\"2023-04-30T00:00:00\",\"2023-05-31T00:00:00\",\"2023-06-30T00:00:00\"],\"xaxis\":\"x\",\"y\":[839842775594.3502,854644821407.1971,882234789739.8148],\"yaxis\":\"y\",\"type\":\"scatter\"},{\"hovertemplate\":\"variable=\\u0424\\u0430\\u043a\\u0442\\u0438\\u0447\\u0435\\u0441\\u043a\\u0438\\u0435 \\u0437\\u043d\\u0430\\u0447\\u0435\\u043d\\u0438\\u044f<br>step=4<br>report_date=%{x}<br>value=%{y}<extra></extra>\",\"legendgroup\":\"\\u0424\\u0430\\u043a\\u0442\\u0438\\u0447\\u0435\\u0441\\u043a\\u0438\\u0435 \\u0437\\u043d\\u0430\\u0447\\u0435\\u043d\\u0438\\u044f\",\"line\":{\"color\":\"#636efa\",\"dash\":\"solid\"},\"marker\":{\"symbol\":\"circle\"},\"mode\":\"markers+lines\",\"name\":\"\\u0424\\u0430\\u043a\\u0442\\u0438\\u0447\\u0435\\u0441\\u043a\\u0438\\u0435 \\u0437\\u043d\\u0430\\u0447\\u0435\\u043d\\u0438\\u044f\",\"orientation\":\"v\",\"showlegend\":false,\"x\":[\"2023-07-31T00:00:00\",\"2023-08-31T00:00:00\",\"2023-09-30T00:00:00\"],\"xaxis\":\"x\",\"y\":[845311931802.0636,835627091534.5819,877507162296.3771],\"yaxis\":\"y\",\"type\":\"scatter\"},{\"hovertemplate\":\"variable=\\u0424\\u0430\\u043a\\u0442\\u0438\\u0447\\u0435\\u0441\\u043a\\u0438\\u0435 \\u0437\\u043d\\u0430\\u0447\\u0435\\u043d\\u0438\\u044f<br>step=5<br>report_date=%{x}<br>value=%{y}<extra></extra>\",\"legendgroup\":\"\\u0424\\u0430\\u043a\\u0442\\u0438\\u0447\\u0435\\u0441\\u043a\\u0438\\u0435 \\u0437\\u043d\\u0430\\u0447\\u0435\\u043d\\u0438\\u044f\",\"line\":{\"color\":\"#636efa\",\"dash\":\"solid\"},\"marker\":{\"symbol\":\"circle\"},\"mode\":\"markers+lines\",\"name\":\"\\u0424\\u0430\\u043a\\u0442\\u0438\\u0447\\u0435\\u0441\\u043a\\u0438\\u0435 \\u0437\\u043d\\u0430\\u0447\\u0435\\u043d\\u0438\\u044f\",\"orientation\":\"v\",\"showlegend\":false,\"x\":[\"2023-10-31T00:00:00\",\"2023-11-30T00:00:00\",\"2023-12-31T00:00:00\"],\"xaxis\":\"x\",\"y\":[812503592696.0627,820389481269.911,796423820338.5823],\"yaxis\":\"y\",\"type\":\"scatter\"},{\"hovertemplate\":\"variable=\\u041f\\u0440\\u0435\\u0434\\u0441\\u043a\\u0430\\u0437\\u0430\\u043d\\u043d\\u044b\\u0435 \\u0437\\u043d\\u0430\\u0447\\u0435\\u043d\\u0438\\u044f<br>step=1<br>report_date=%{x}<br>value=%{y}<extra></extra>\",\"legendgroup\":\"\\u041f\\u0440\\u0435\\u0434\\u0441\\u043a\\u0430\\u0437\\u0430\\u043d\\u043d\\u044b\\u0435 \\u0437\\u043d\\u0430\\u0447\\u0435\\u043d\\u0438\\u044f\",\"line\":{\"color\":\"#EF553B\",\"dash\":\"solid\"},\"marker\":{\"symbol\":\"circle\"},\"mode\":\"markers+lines\",\"name\":\"\\u041f\\u0440\\u0435\\u0434\\u0441\\u043a\\u0430\\u0437\\u0430\\u043d\\u043d\\u044b\\u0435 \\u0437\\u043d\\u0430\\u0447\\u0435\\u043d\\u0438\\u044f\",\"orientation\":\"v\",\"showlegend\":true,\"x\":[\"2022-10-31T00:00:00\",\"2022-11-30T00:00:00\",\"2022-12-31T00:00:00\"],\"xaxis\":\"x\",\"y\":[868309487444.9814,919250058419.8319,930245652131.8253],\"yaxis\":\"y\",\"type\":\"scatter\"},{\"hovertemplate\":\"variable=\\u041f\\u0440\\u0435\\u0434\\u0441\\u043a\\u0430\\u0437\\u0430\\u043d\\u043d\\u044b\\u0435 \\u0437\\u043d\\u0430\\u0447\\u0435\\u043d\\u0438\\u044f<br>step=2<br>report_date=%{x}<br>value=%{y}<extra></extra>\",\"legendgroup\":\"\\u041f\\u0440\\u0435\\u0434\\u0441\\u043a\\u0430\\u0437\\u0430\\u043d\\u043d\\u044b\\u0435 \\u0437\\u043d\\u0430\\u0447\\u0435\\u043d\\u0438\\u044f\",\"line\":{\"color\":\"#EF553B\",\"dash\":\"solid\"},\"marker\":{\"symbol\":\"circle\"},\"mode\":\"markers+lines\",\"name\":\"\\u041f\\u0440\\u0435\\u0434\\u0441\\u043a\\u0430\\u0437\\u0430\\u043d\\u043d\\u044b\\u0435 \\u0437\\u043d\\u0430\\u0447\\u0435\\u043d\\u0438\\u044f\",\"orientation\":\"v\",\"showlegend\":false,\"x\":[\"2023-01-31T00:00:00\",\"2023-02-28T00:00:00\",\"2023-03-31T00:00:00\"],\"xaxis\":\"x\",\"y\":[808688863026.5565,832309596880.2675,884282696494.4336],\"yaxis\":\"y\",\"type\":\"scatter\"},{\"hovertemplate\":\"variable=\\u041f\\u0440\\u0435\\u0434\\u0441\\u043a\\u0430\\u0437\\u0430\\u043d\\u043d\\u044b\\u0435 \\u0437\\u043d\\u0430\\u0447\\u0435\\u043d\\u0438\\u044f<br>step=3<br>report_date=%{x}<br>value=%{y}<extra></extra>\",\"legendgroup\":\"\\u041f\\u0440\\u0435\\u0434\\u0441\\u043a\\u0430\\u0437\\u0430\\u043d\\u043d\\u044b\\u0435 \\u0437\\u043d\\u0430\\u0447\\u0435\\u043d\\u0438\\u044f\",\"line\":{\"color\":\"#EF553B\",\"dash\":\"solid\"},\"marker\":{\"symbol\":\"circle\"},\"mode\":\"markers+lines\",\"name\":\"\\u041f\\u0440\\u0435\\u0434\\u0441\\u043a\\u0430\\u0437\\u0430\\u043d\\u043d\\u044b\\u0435 \\u0437\\u043d\\u0430\\u0447\\u0435\\u043d\\u0438\\u044f\",\"orientation\":\"v\",\"showlegend\":false,\"x\":[\"2023-04-30T00:00:00\",\"2023-05-31T00:00:00\",\"2023-06-30T00:00:00\"],\"xaxis\":\"x\",\"y\":[827352546465.8107,863759549695.895,900562032342.2902],\"yaxis\":\"y\",\"type\":\"scatter\"},{\"hovertemplate\":\"variable=\\u041f\\u0440\\u0435\\u0434\\u0441\\u043a\\u0430\\u0437\\u0430\\u043d\\u043d\\u044b\\u0435 \\u0437\\u043d\\u0430\\u0447\\u0435\\u043d\\u0438\\u044f<br>step=4<br>report_date=%{x}<br>value=%{y}<extra></extra>\",\"legendgroup\":\"\\u041f\\u0440\\u0435\\u0434\\u0441\\u043a\\u0430\\u0437\\u0430\\u043d\\u043d\\u044b\\u0435 \\u0437\\u043d\\u0430\\u0447\\u0435\\u043d\\u0438\\u044f\",\"line\":{\"color\":\"#EF553B\",\"dash\":\"solid\"},\"marker\":{\"symbol\":\"circle\"},\"mode\":\"markers+lines\",\"name\":\"\\u041f\\u0440\\u0435\\u0434\\u0441\\u043a\\u0430\\u0437\\u0430\\u043d\\u043d\\u044b\\u0435 \\u0437\\u043d\\u0430\\u0447\\u0435\\u043d\\u0438\\u044f\",\"orientation\":\"v\",\"showlegend\":false,\"x\":[\"2023-07-31T00:00:00\",\"2023-08-31T00:00:00\",\"2023-09-30T00:00:00\"],\"xaxis\":\"x\",\"y\":[877180743652.8445,855492370294.9371,878066509161.3457],\"yaxis\":\"y\",\"type\":\"scatter\"},{\"hovertemplate\":\"variable=\\u041f\\u0440\\u0435\\u0434\\u0441\\u043a\\u0430\\u0437\\u0430\\u043d\\u043d\\u044b\\u0435 \\u0437\\u043d\\u0430\\u0447\\u0435\\u043d\\u0438\\u044f<br>step=5<br>report_date=%{x}<br>value=%{y}<extra></extra>\",\"legendgroup\":\"\\u041f\\u0440\\u0435\\u0434\\u0441\\u043a\\u0430\\u0437\\u0430\\u043d\\u043d\\u044b\\u0435 \\u0437\\u043d\\u0430\\u0447\\u0435\\u043d\\u0438\\u044f\",\"line\":{\"color\":\"#EF553B\",\"dash\":\"solid\"},\"marker\":{\"symbol\":\"circle\"},\"mode\":\"markers+lines\",\"name\":\"\\u041f\\u0440\\u0435\\u0434\\u0441\\u043a\\u0430\\u0437\\u0430\\u043d\\u043d\\u044b\\u0435 \\u0437\\u043d\\u0430\\u0447\\u0435\\u043d\\u0438\\u044f\",\"orientation\":\"v\",\"showlegend\":false,\"x\":[\"2023-10-31T00:00:00\",\"2023-11-30T00:00:00\",\"2023-12-31T00:00:00\"],\"xaxis\":\"x\",\"y\":[808649031257.83,835606387917.3125,810829459387.6736],\"yaxis\":\"y\",\"type\":\"scatter\"}],                        {\"template\":{\"data\":{\"histogram2dcontour\":[{\"type\":\"histogram2dcontour\",\"colorbar\":{\"outlinewidth\":0,\"ticks\":\"\"},\"colorscale\":[[0.0,\"#0d0887\"],[0.1111111111111111,\"#46039f\"],[0.2222222222222222,\"#7201a8\"],[0.3333333333333333,\"#9c179e\"],[0.4444444444444444,\"#bd3786\"],[0.5555555555555556,\"#d8576b\"],[0.6666666666666666,\"#ed7953\"],[0.7777777777777778,\"#fb9f3a\"],[0.8888888888888888,\"#fdca26\"],[1.0,\"#f0f921\"]]}],\"choropleth\":[{\"type\":\"choropleth\",\"colorbar\":{\"outlinewidth\":0,\"ticks\":\"\"}}],\"histogram2d\":[{\"type\":\"histogram2d\",\"colorbar\":{\"outlinewidth\":0,\"ticks\":\"\"},\"colorscale\":[[0.0,\"#0d0887\"],[0.1111111111111111,\"#46039f\"],[0.2222222222222222,\"#7201a8\"],[0.3333333333333333,\"#9c179e\"],[0.4444444444444444,\"#bd3786\"],[0.5555555555555556,\"#d8576b\"],[0.6666666666666666,\"#ed7953\"],[0.7777777777777778,\"#fb9f3a\"],[0.8888888888888888,\"#fdca26\"],[1.0,\"#f0f921\"]]}],\"heatmap\":[{\"type\":\"heatmap\",\"colorbar\":{\"outlinewidth\":0,\"ticks\":\"\"},\"colorscale\":[[0.0,\"#0d0887\"],[0.1111111111111111,\"#46039f\"],[0.2222222222222222,\"#7201a8\"],[0.3333333333333333,\"#9c179e\"],[0.4444444444444444,\"#bd3786\"],[0.5555555555555556,\"#d8576b\"],[0.6666666666666666,\"#ed7953\"],[0.7777777777777778,\"#fb9f3a\"],[0.8888888888888888,\"#fdca26\"],[1.0,\"#f0f921\"]]}],\"heatmapgl\":[{\"type\":\"heatmapgl\",\"colorbar\":{\"outlinewidth\":0,\"ticks\":\"\"},\"colorscale\":[[0.0,\"#0d0887\"],[0.1111111111111111,\"#46039f\"],[0.2222222222222222,\"#7201a8\"],[0.3333333333333333,\"#9c179e\"],[0.4444444444444444,\"#bd3786\"],[0.5555555555555556,\"#d8576b\"],[0.6666666666666666,\"#ed7953\"],[0.7777777777777778,\"#fb9f3a\"],[0.8888888888888888,\"#fdca26\"],[1.0,\"#f0f921\"]]}],\"contourcarpet\":[{\"type\":\"contourcarpet\",\"colorbar\":{\"outlinewidth\":0,\"ticks\":\"\"}}],\"contour\":[{\"type\":\"contour\",\"colorbar\":{\"outlinewidth\":0,\"ticks\":\"\"},\"colorscale\":[[0.0,\"#0d0887\"],[0.1111111111111111,\"#46039f\"],[0.2222222222222222,\"#7201a8\"],[0.3333333333333333,\"#9c179e\"],[0.4444444444444444,\"#bd3786\"],[0.5555555555555556,\"#d8576b\"],[0.6666666666666666,\"#ed7953\"],[0.7777777777777778,\"#fb9f3a\"],[0.8888888888888888,\"#fdca26\"],[1.0,\"#f0f921\"]]}],\"surface\":[{\"type\":\"surface\",\"colorbar\":{\"outlinewidth\":0,\"ticks\":\"\"},\"colorscale\":[[0.0,\"#0d0887\"],[0.1111111111111111,\"#46039f\"],[0.2222222222222222,\"#7201a8\"],[0.3333333333333333,\"#9c179e\"],[0.4444444444444444,\"#bd3786\"],[0.5555555555555556,\"#d8576b\"],[0.6666666666666666,\"#ed7953\"],[0.7777777777777778,\"#fb9f3a\"],[0.8888888888888888,\"#fdca26\"],[1.0,\"#f0f921\"]]}],\"mesh3d\":[{\"type\":\"mesh3d\",\"colorbar\":{\"outlinewidth\":0,\"ticks\":\"\"}}],\"scatter\":[{\"fillpattern\":{\"fillmode\":\"overlay\",\"size\":10,\"solidity\":0.2},\"type\":\"scatter\"}],\"parcoords\":[{\"type\":\"parcoords\",\"line\":{\"colorbar\":{\"outlinewidth\":0,\"ticks\":\"\"}}}],\"scatterpolargl\":[{\"type\":\"scatterpolargl\",\"marker\":{\"colorbar\":{\"outlinewidth\":0,\"ticks\":\"\"}}}],\"bar\":[{\"error_x\":{\"color\":\"#2a3f5f\"},\"error_y\":{\"color\":\"#2a3f5f\"},\"marker\":{\"line\":{\"color\":\"white\",\"width\":0.5},\"pattern\":{\"fillmode\":\"overlay\",\"size\":10,\"solidity\":0.2}},\"type\":\"bar\"}],\"scattergeo\":[{\"type\":\"scattergeo\",\"marker\":{\"colorbar\":{\"outlinewidth\":0,\"ticks\":\"\"}}}],\"scatterpolar\":[{\"type\":\"scatterpolar\",\"marker\":{\"colorbar\":{\"outlinewidth\":0,\"ticks\":\"\"}}}],\"histogram\":[{\"marker\":{\"pattern\":{\"fillmode\":\"overlay\",\"size\":10,\"solidity\":0.2}},\"type\":\"histogram\"}],\"scattergl\":[{\"type\":\"scattergl\",\"marker\":{\"colorbar\":{\"outlinewidth\":0,\"ticks\":\"\"}}}],\"scatter3d\":[{\"type\":\"scatter3d\",\"line\":{\"colorbar\":{\"outlinewidth\":0,\"ticks\":\"\"}},\"marker\":{\"colorbar\":{\"outlinewidth\":0,\"ticks\":\"\"}}}],\"scattermapbox\":[{\"type\":\"scattermapbox\",\"marker\":{\"colorbar\":{\"outlinewidth\":0,\"ticks\":\"\"}}}],\"scatterternary\":[{\"type\":\"scatterternary\",\"marker\":{\"colorbar\":{\"outlinewidth\":0,\"ticks\":\"\"}}}],\"scattercarpet\":[{\"type\":\"scattercarpet\",\"marker\":{\"colorbar\":{\"outlinewidth\":0,\"ticks\":\"\"}}}],\"carpet\":[{\"aaxis\":{\"endlinecolor\":\"#2a3f5f\",\"gridcolor\":\"#C8D4E3\",\"linecolor\":\"#C8D4E3\",\"minorgridcolor\":\"#C8D4E3\",\"startlinecolor\":\"#2a3f5f\"},\"baxis\":{\"endlinecolor\":\"#2a3f5f\",\"gridcolor\":\"#C8D4E3\",\"linecolor\":\"#C8D4E3\",\"minorgridcolor\":\"#C8D4E3\",\"startlinecolor\":\"#2a3f5f\"},\"type\":\"carpet\"}],\"table\":[{\"cells\":{\"fill\":{\"color\":\"#EBF0F8\"},\"line\":{\"color\":\"white\"}},\"header\":{\"fill\":{\"color\":\"#C8D4E3\"},\"line\":{\"color\":\"white\"}},\"type\":\"table\"}],\"barpolar\":[{\"marker\":{\"line\":{\"color\":\"white\",\"width\":0.5},\"pattern\":{\"fillmode\":\"overlay\",\"size\":10,\"solidity\":0.2}},\"type\":\"barpolar\"}],\"pie\":[{\"automargin\":true,\"type\":\"pie\"}]},\"layout\":{\"autotypenumbers\":\"strict\",\"colorway\":[\"#636efa\",\"#EF553B\",\"#00cc96\",\"#ab63fa\",\"#FFA15A\",\"#19d3f3\",\"#FF6692\",\"#B6E880\",\"#FF97FF\",\"#FECB52\"],\"font\":{\"color\":\"#2a3f5f\"},\"hovermode\":\"closest\",\"hoverlabel\":{\"align\":\"left\"},\"paper_bgcolor\":\"white\",\"plot_bgcolor\":\"white\",\"polar\":{\"bgcolor\":\"white\",\"angularaxis\":{\"gridcolor\":\"#EBF0F8\",\"linecolor\":\"#EBF0F8\",\"ticks\":\"\"},\"radialaxis\":{\"gridcolor\":\"#EBF0F8\",\"linecolor\":\"#EBF0F8\",\"ticks\":\"\"}},\"ternary\":{\"bgcolor\":\"white\",\"aaxis\":{\"gridcolor\":\"#DFE8F3\",\"linecolor\":\"#A2B1C6\",\"ticks\":\"\"},\"baxis\":{\"gridcolor\":\"#DFE8F3\",\"linecolor\":\"#A2B1C6\",\"ticks\":\"\"},\"caxis\":{\"gridcolor\":\"#DFE8F3\",\"linecolor\":\"#A2B1C6\",\"ticks\":\"\"}},\"coloraxis\":{\"colorbar\":{\"outlinewidth\":0,\"ticks\":\"\"}},\"colorscale\":{\"sequential\":[[0.0,\"#0d0887\"],[0.1111111111111111,\"#46039f\"],[0.2222222222222222,\"#7201a8\"],[0.3333333333333333,\"#9c179e\"],[0.4444444444444444,\"#bd3786\"],[0.5555555555555556,\"#d8576b\"],[0.6666666666666666,\"#ed7953\"],[0.7777777777777778,\"#fb9f3a\"],[0.8888888888888888,\"#fdca26\"],[1.0,\"#f0f921\"]],\"sequentialminus\":[[0.0,\"#0d0887\"],[0.1111111111111111,\"#46039f\"],[0.2222222222222222,\"#7201a8\"],[0.3333333333333333,\"#9c179e\"],[0.4444444444444444,\"#bd3786\"],[0.5555555555555556,\"#d8576b\"],[0.6666666666666666,\"#ed7953\"],[0.7777777777777778,\"#fb9f3a\"],[0.8888888888888888,\"#fdca26\"],[1.0,\"#f0f921\"]],\"diverging\":[[0,\"#8e0152\"],[0.1,\"#c51b7d\"],[0.2,\"#de77ae\"],[0.3,\"#f1b6da\"],[0.4,\"#fde0ef\"],[0.5,\"#f7f7f7\"],[0.6,\"#e6f5d0\"],[0.7,\"#b8e186\"],[0.8,\"#7fbc41\"],[0.9,\"#4d9221\"],[1,\"#276419\"]]},\"xaxis\":{\"gridcolor\":\"#EBF0F8\",\"linecolor\":\"#EBF0F8\",\"ticks\":\"\",\"title\":{\"standoff\":15},\"zerolinecolor\":\"#EBF0F8\",\"automargin\":true,\"zerolinewidth\":2},\"yaxis\":{\"gridcolor\":\"#EBF0F8\",\"linecolor\":\"#EBF0F8\",\"ticks\":\"\",\"title\":{\"standoff\":15},\"zerolinecolor\":\"#EBF0F8\",\"automargin\":true,\"zerolinewidth\":2},\"scene\":{\"xaxis\":{\"backgroundcolor\":\"white\",\"gridcolor\":\"#DFE8F3\",\"linecolor\":\"#EBF0F8\",\"showbackground\":true,\"ticks\":\"\",\"zerolinecolor\":\"#EBF0F8\",\"gridwidth\":2},\"yaxis\":{\"backgroundcolor\":\"white\",\"gridcolor\":\"#DFE8F3\",\"linecolor\":\"#EBF0F8\",\"showbackground\":true,\"ticks\":\"\",\"zerolinecolor\":\"#EBF0F8\",\"gridwidth\":2},\"zaxis\":{\"backgroundcolor\":\"white\",\"gridcolor\":\"#DFE8F3\",\"linecolor\":\"#EBF0F8\",\"showbackground\":true,\"ticks\":\"\",\"zerolinecolor\":\"#EBF0F8\",\"gridwidth\":2}},\"shapedefaults\":{\"line\":{\"color\":\"#2a3f5f\"}},\"annotationdefaults\":{\"arrowcolor\":\"#2a3f5f\",\"arrowhead\":0,\"arrowwidth\":1},\"geo\":{\"bgcolor\":\"white\",\"landcolor\":\"white\",\"subunitcolor\":\"#C8D4E3\",\"showland\":true,\"showlakes\":true,\"lakecolor\":\"white\"},\"title\":{\"x\":0.05},\"mapbox\":{\"style\":\"light\"}}},\"xaxis\":{\"anchor\":\"y\",\"domain\":[0.0,1.0],\"title\":{\"text\":\"\\u0414\\u0430\\u0442\\u0430\"}},\"yaxis\":{\"anchor\":\"x\",\"domain\":[0.0,1.0],\"title\":{\"text\":\"\\u041e\\u0431\\u044a\\u0435\\u043c \\u0441\\u0440\\u0435\\u0434\\u0441\\u0442\\u0432 \\u043d\\u0430 \\u0441\\u0447\\u0435\\u0442\\u0430\\u0445 \\u044d\\u0441\\u043a\\u043e\\u0443\"}},\"legend\":{\"title\":{\"text\":\"\"},\"tracegroupgap\":0},\"title\":{\"text\":\"\\u0411\\u044d\\u043a\\u0442\\u0435\\u0441\\u0442 \\u043a\\u043e\\u043c\\u043f\\u043e\\u0437\\u0438\\u0446\\u0438\\u0438 \\u043c\\u043e\\u0434\\u0435\\u043b\\u0435\\u0439 \\u0434\\u043b\\u044f \\u0438\\u0441\\u0445\\u043e\\u0434\\u043d\\u043e\\u0439 \\u0446\\u0435\\u043b\\u0435\\u0432\\u043e\\u0439 \\u043f\\u0435\\u0440\\u0435\\u043c\\u0435\\u043d\\u043d\\u043e\\u0439 - \\u043e\\u0431\\u044a\\u0435\\u043c\\u0430 \\u0441\\u0440\\u0435\\u0434\\u0441\\u0442\\u0432 \\u043d\\u0430 \\u0441\\u0447\\u0435\\u0442\\u0430\\u0445 \\u044d\\u0441\\u043a\\u0440\\u043e\\u0443\"},\"height\":500,\"shapes\":[{\"line\":{\"dash\":\"dash\"},\"type\":\"line\",\"x0\":\"2022-12-31T00:00:00\",\"x1\":\"2022-12-31T00:00:00\",\"xref\":\"x\",\"y0\":0,\"y1\":1,\"yref\":\"y domain\"},{\"line\":{\"dash\":\"dash\"},\"type\":\"line\",\"x0\":\"2023-03-31T00:00:00\",\"x1\":\"2023-03-31T00:00:00\",\"xref\":\"x\",\"y0\":0,\"y1\":1,\"yref\":\"y domain\"},{\"line\":{\"dash\":\"dash\"},\"type\":\"line\",\"x0\":\"2023-06-30T00:00:00\",\"x1\":\"2023-06-30T00:00:00\",\"xref\":\"x\",\"y0\":0,\"y1\":1,\"yref\":\"y domain\"},{\"line\":{\"dash\":\"dash\"},\"type\":\"line\",\"x0\":\"2023-09-30T00:00:00\",\"x1\":\"2023-09-30T00:00:00\",\"xref\":\"x\",\"y0\":0,\"y1\":1,\"yref\":\"y domain\"}],\"font\":{\"size\":15}},                        {\"responsive\": true}                    ).then(function(){\n",
       "                            \n",
       "var gd = document.getElementById('fb82f3d9-30fd-4bc8-a25c-f58a0124b18e');\n",
       "var x = new MutationObserver(function (mutations, observer) {{\n",
       "        var display = window.getComputedStyle(gd).display;\n",
       "        if (!display || display === 'none') {{\n",
       "            console.log([gd, 'removed!']);\n",
       "            Plotly.purge(gd);\n",
       "            observer.disconnect();\n",
       "        }}\n",
       "}});\n",
       "\n",
       "// Listen for the removal of the full notebook cells\n",
       "var notebookContainer = gd.closest('#notebook-container');\n",
       "if (notebookContainer) {{\n",
       "    x.observe(notebookContainer, {childList: true});\n",
       "}}\n",
       "\n",
       "// Listen for the clearing of the current output cell\n",
       "var outputEl = gd.closest('.output');\n",
       "if (outputEl) {{\n",
       "    x.observe(outputEl, {childList: true});\n",
       "}}\n",
       "\n",
       "                        })                };                });            </script>        </div>"
      ]
     },
     "metadata": {},
     "output_type": "display_data"
    }
   ],
   "source": [
    "import plotly.io as pio\n",
    "pio.templates.default = 'plotly_white'\n",
    "\n",
    "fig = px.line(res.groupby('report_date').agg({'step': 'first', 'escrow_volume': 'sum', 'escrow_volume_pred': 'sum'}).rename(columns = {'escrow_volume_pred': 'Предсказанные значения', 'escrow_volume': 'Фактические значения'}),\n",
    "              title = 'Бэктест композиции моделей для исходной целевой переменной - объема средств на счетах эскроу', line_group = 'step', markers = True, height = 500)\n",
    "\n",
    "for dt in res.groupby('step').agg({'report_date': 'max'})['report_date'].values[:-1]:\n",
    "    fig.add_vline(x = pd.to_datetime(dt), line_dash = 'dash')\n",
    "fig.update_layout(font = dict(size = 15), xaxis_title = 'Дата', yaxis_title = 'Объем средств на счетах эскоу', legend_title = '')"
   ]
  },
  {
   "cell_type": "code",
   "execution_count": 17,
   "id": "c202c23d-7be9-4d06-beca-89e6ac182667",
   "metadata": {},
   "outputs": [
    {
     "data": {
      "text/plain": [
       "16.182250124386197"
      ]
     },
     "execution_count": 17,
     "metadata": {},
     "output_type": "execute_result"
    }
   ],
   "source": [
    "from sklearn.metrics import mean_absolute_error as mae, mean_absolute_percentage_error as mape\n",
    "\n",
    "agg_res = res.groupby(['step', 'report_date'], as_index = False).agg({'escrow_volume': 'sum', 'escrow_volume_new': 'sum', 'escrow_volume_pred': 'sum'})\n",
    "\n",
    "mae(agg_res['escrow_volume_new'], agg_res['escrow_volume_pred'])/10**9"
   ]
  },
  {
   "cell_type": "code",
   "execution_count": 22,
   "id": "5dea13d3-2d33-4c84-96c2-133badc6c240",
   "metadata": {},
   "outputs": [
    {
     "data": {
      "text/html": [
       "<div>\n",
       "<style scoped>\n",
       "    .dataframe tbody tr th:only-of-type {\n",
       "        vertical-align: middle;\n",
       "    }\n",
       "\n",
       "    .dataframe tbody tr th {\n",
       "        vertical-align: top;\n",
       "    }\n",
       "\n",
       "    .dataframe thead th {\n",
       "        text-align: right;\n",
       "    }\n",
       "</style>\n",
       "<table border=\"1\" class=\"dataframe\">\n",
       "  <thead>\n",
       "    <tr style=\"text-align: right;\">\n",
       "      <th></th>\n",
       "      <th>mae</th>\n",
       "    </tr>\n",
       "    <tr>\n",
       "      <th>step</th>\n",
       "      <th></th>\n",
       "    </tr>\n",
       "  </thead>\n",
       "  <tbody>\n",
       "    <tr>\n",
       "      <th>1</th>\n",
       "      <td>27.707599</td>\n",
       "    </tr>\n",
       "    <tr>\n",
       "      <th>2</th>\n",
       "      <td>11.302737</td>\n",
       "    </tr>\n",
       "    <tr>\n",
       "      <th>3</th>\n",
       "      <td>13.310733</td>\n",
       "    </tr>\n",
       "    <tr>\n",
       "      <th>4</th>\n",
       "      <td>17.431146</td>\n",
       "    </tr>\n",
       "    <tr>\n",
       "      <th>5</th>\n",
       "      <td>11.159036</td>\n",
       "    </tr>\n",
       "  </tbody>\n",
       "</table>\n",
       "</div>"
      ],
      "text/plain": [
       "            mae\n",
       "step           \n",
       "1     27.707599\n",
       "2     11.302737\n",
       "3     13.310733\n",
       "4     17.431146\n",
       "5     11.159036"
      ]
     },
     "execution_count": 22,
     "metadata": {},
     "output_type": "execute_result"
    }
   ],
   "source": [
    "agg_res.groupby(['step']).apply(lambda df: pd.Series({'mae': mae(df['escrow_volume'], df['escrow_volume_pred'])})) / 10**9"
   ]
  },
  {
   "cell_type": "code",
   "execution_count": 26,
   "id": "39b3f0b7-5f91-4380-b5f1-adc32d6e3b78",
   "metadata": {},
   "outputs": [
    {
     "data": {
      "text/html": [
       "<div>\n",
       "<style scoped>\n",
       "    .dataframe tbody tr th:only-of-type {\n",
       "        vertical-align: middle;\n",
       "    }\n",
       "\n",
       "    .dataframe tbody tr th {\n",
       "        vertical-align: top;\n",
       "    }\n",
       "\n",
       "    .dataframe thead th {\n",
       "        text-align: right;\n",
       "    }\n",
       "</style>\n",
       "<table border=\"1\" class=\"dataframe\">\n",
       "  <thead>\n",
       "    <tr style=\"text-align: right;\">\n",
       "      <th></th>\n",
       "      <th>mape</th>\n",
       "    </tr>\n",
       "    <tr>\n",
       "      <th>step</th>\n",
       "      <th></th>\n",
       "    </tr>\n",
       "  </thead>\n",
       "  <tbody>\n",
       "    <tr>\n",
       "      <th>1</th>\n",
       "      <td>0.031761</td>\n",
       "    </tr>\n",
       "    <tr>\n",
       "      <th>2</th>\n",
       "      <td>0.013351</td>\n",
       "    </tr>\n",
       "    <tr>\n",
       "      <th>3</th>\n",
       "      <td>0.015437</td>\n",
       "    </tr>\n",
       "    <tr>\n",
       "      <th>4</th>\n",
       "      <td>0.020704</td>\n",
       "    </tr>\n",
       "    <tr>\n",
       "      <th>5</th>\n",
       "      <td>0.013793</td>\n",
       "    </tr>\n",
       "  </tbody>\n",
       "</table>\n",
       "</div>"
      ],
      "text/plain": [
       "          mape\n",
       "step          \n",
       "1     0.031761\n",
       "2     0.013351\n",
       "3     0.015437\n",
       "4     0.020704\n",
       "5     0.013793"
      ]
     },
     "execution_count": 26,
     "metadata": {},
     "output_type": "execute_result"
    }
   ],
   "source": [
    "agg_res.groupby(['step']).apply(lambda df: pd.Series({'mape': mape(df['escrow_volume'], df['escrow_volume_pred'])})) "
   ]
  },
  {
   "cell_type": "code",
   "execution_count": 27,
   "id": "1d2327ba-a877-4d96-b9e2-0406043bf13b",
   "metadata": {},
   "outputs": [
    {
     "data": {
      "text/plain": [
       "(16.182250124386204, 0.01900919311926386)"
      ]
     },
     "execution_count": 27,
     "metadata": {},
     "output_type": "execute_result"
    }
   ],
   "source": [
    "mae(agg_res['escrow_volume'], agg_res['escrow_volume_pred'])/10**9, mape(agg_res['escrow_volume'], agg_res['escrow_volume_pred'])"
   ]
  },
  {
   "cell_type": "code",
   "execution_count": null,
   "id": "35b8738d-b021-4679-abb9-22ccf717269c",
   "metadata": {},
   "outputs": [],
   "source": []
  }
 ],
 "metadata": {
  "kernelspec": {
   "display_name": "upfmutils_env",
   "language": "python",
   "name": "upfmutils_env"
  },
  "language_info": {
   "codemirror_mode": {
    "name": "ipython",
    "version": 3
   },
   "file_extension": ".py",
   "mimetype": "text/x-python",
   "name": "python",
   "nbconvert_exporter": "python",
   "pygments_lexer": "ipython3",
   "version": "3.7.16"
  }
 },
 "nbformat": 4,
 "nbformat_minor": 5
}
